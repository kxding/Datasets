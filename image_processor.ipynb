{
 "cells": [
  {
   "cell_type": "code",
   "execution_count": 1,
   "metadata": {},
   "outputs": [],
   "source": [
    "import torch  \n",
    "from PIL import Image  \n",
    "import torchvision.transforms as transforms  \n",
    "import os\n",
    "  "
   ]
  },
  {
   "cell_type": "markdown",
   "metadata": {},
   "source": [
    "## 一键修改图片名称中的\" \""
   ]
  },
  {
   "cell_type": "code",
   "execution_count": 17,
   "metadata": {},
   "outputs": [],
   "source": [
    "import os  \n",
    "  \n",
    "# 获取文件夹中的所有文件  \n",
    "files = os.listdir('./person')  \n",
    "  \n",
    "# 遍历文件夹中的所有文件  \n",
    "for file in files:  \n",
    "    if '(' in file:  \n",
    "        new_name = file.replace('(', '')  # 将空格替换为下划线，您也可以替换为空字符串  \n",
    "        os.rename(os.path.join('./person', file), os.path.join('./person', new_name))  "
   ]
  },
  {
   "cell_type": "markdown",
   "metadata": {},
   "source": [
    "# 图像读取+输出图像shape"
   ]
  },
  {
   "cell_type": "code",
   "execution_count": 23,
   "metadata": {},
   "outputs": [
    {
     "name": "stdout",
     "output_type": "stream",
     "text": [
      "img_files ['person_95.png', 'person_44.png', 'person_38.png', 'person_132.png', 'person_135.png', 'person_92.png', 'person_43.png', 'person_198.png', 'person_149.png', 'person_31.png', 'person_196.png', 'person_147.png', 'person_191.png', 'person_140.png', 'person_36.png', 'person_175.png', 'person_109.png', 'person_78.png', 'person_172.png', 'person_100.png', 'person_76.png', 'person_71.png', 'person_107.png', 'person_60.png', 'person_116.png', 'person_5.png', 'person_111.png', 'person_2.png', 'person_67.png', 'person_15.png', 'person_163.png', 'person_69.png', 'person_164.png', 'person_118.png', 'person_12.png', 'person_151.png', 'person_180.png', 'person_27.png', 'person_20.png', 'person_156.png', 'person_187.png', 'person_124.png', 'person_158.png', 'person_189.png', 'person_52.png', 'person_83.png', 'person_55.png', 'person_84.png', 'person_123.png', 'person_29.png', 'person_70.png', 'person_106.png', 'person_101.png', 'person_77.png', 'person_79.png', 'person_173.png', 'person_174.png', 'person_108.png', 'person_190.png', 'person_141.png', 'person_37.png', 'person_30.png', 'person_197.png', 'person_146.png', 'person_134.png', 'person_93.png', 'person_42.png', 'person_199.png', 'person_148.png', 'person_94.png', 'person_45.png', 'person_39.png', 'person_133.png', 'person_54.png', 'person_85.png', 'person_122.png', 'person_28.png', 'person_125.png', 'person_159.png', 'person_188.png', 'person_53.png', 'person_82.png', 'person_21.png', 'person_157.png', 'person_186.png', 'person_150.png', 'person_181.png', 'person_26.png', 'person_165.png', 'person_119.png', 'person_13.png', 'person_14.png', 'person_162.png', 'person_68.png', 'person_110.png', 'person_3.png', 'person_66.png', 'person_61.png', 'person_200.png', 'person_117.png', 'person_4.png', 'person_126.png', 'person_50.png', 'person_81.png', 'person_57.png', 'person_86.png', 'person_121.png', 'person_153.png', 'person_182.png', 'person_59.png', 'person_88.png', 'person_25.png', 'person_128.png', 'person_22.png', 'person_154.png', 'person_185.png', 'person_17.png', 'person_161.png', 'person_166.png', 'person_9.png', 'person_10.png', 'person_168.png', 'person_62.png', 'person_114.png', 'person_7.png', 'person_113.png', 'person_19.png', 'person_65.png', 'person_102.png', 'person_74.png', 'person_73.png', 'person_179.png', 'person_105.png', 'person_177.png', 'person_170.png', 'person_33.png', 'person_139.png', 'person_194.png', 'person_145.png', 'person_99.png', 'person_48.png', 'person_193.png', 'person_142.png', 'person_34.png', 'person_97.png', 'person_46.png', 'person_130.png', 'person_137.png', 'person_90.png', 'person_41.png', 'person_112.png', 'person_1.png', 'person_18.png', 'person_64.png', 'person_169.png', 'person_63.png', 'person_115.png', 'person_6.png', 'person_167.png', 'person_8.png', 'person_11.png', 'person_16.png', 'person_160.png', 'person_129.png', 'person_23.png', 'person_155.png', 'person_184.png', 'person_152.png', 'person_183.png', 'person_58.png', 'person_89.png', 'person_24.png', 'person_56.png', 'person_87.png', 'person_120.png', 'person_127.png', 'person_51.png', 'person_80.png', 'person_136.png', 'person_91.png', 'person_40.png', 'person_96.png', 'person_47.png', 'person_131.png', 'person_98.png', 'person_49.png', 'person_192.png', 'person_143.png', 'person_35.png', 'person_32.png', 'person_138.png', 'person_195.png', 'person_144.png', 'person_171.png', 'person_176.png', 'person_72.png', 'person_178.png', 'person_104.png', 'person_103.png', 'person_75.png']\n",
      "image_list 200\n",
      "torch.Size([3, 1024, 1024])\n"
     ]
    }
   ],
   "source": [
    "# 加载图像  \n",
    "from PIL import Image  \n",
    "import torchvision.transforms as transforms  \n",
    "import os\n",
    "  \n",
    "img_root_path = \"./person\"\n",
    "img_files = os.listdir(img_root_path)\n",
    "# print(\"img_files\", img_files)\n",
    "image_list = []  \n",
    "for img_file in img_files:  \n",
    "    if img_file.endswith('.jpg') or img_file.endswith('.png'):  \n",
    "        img_path = os.path.join(img_root_path, img_file)  \n",
    "        print(img_path)  \n",
    "        img = Image.open(img_path)  \n",
    "        image_list.append(img)  \n",
    "\n",
    "# 定义一个转换，将图像转换为PyTorch张量  \n",
    "transform = transforms.ToTensor()  \n",
    "print(\"image_list\", len(image_list))\n",
    "img = image_list[0]\n",
    "# 应用转换  \n",
    "img_tensor = transform(img)  \n",
    "  \n",
    "# 查看图像张量的形状  \n",
    "print(img_tensor.shape)  "
   ]
  },
  {
   "cell_type": "code",
   "execution_count": null,
   "metadata": {},
   "outputs": [],
   "source": []
  }
 ],
 "metadata": {
  "kernelspec": {
   "display_name": "PixArt",
   "language": "python",
   "name": "python3"
  },
  "language_info": {
   "codemirror_mode": {
    "name": "ipython",
    "version": 3
   },
   "file_extension": ".py",
   "mimetype": "text/x-python",
   "name": "python",
   "nbconvert_exporter": "python",
   "pygments_lexer": "ipython3",
   "version": "3.12.7"
  }
 },
 "nbformat": 4,
 "nbformat_minor": 2
}
